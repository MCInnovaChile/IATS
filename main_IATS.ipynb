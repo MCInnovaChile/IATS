{
 "cells": [
  {
   "cell_type": "code",
   "execution_count": 1,
   "metadata": {},
   "outputs": [],
   "source": [
    "import pandas as pd\n",
    "import re\n",
    "import numpy as np\n",
    "import requests\n",
    "import glob\n",
    "import os\n",
    "from tqdm import tqdm\n",
    "from janitor import clean_names\n",
    "from dicts import dict_columns_rrhh_download, dict_columns_select_download, path\n",
    "from openpyxl import load_workbook\n",
    "from datetime import datetime"
   ]
  },
  {
   "cell_type": "code",
   "execution_count": null,
   "metadata": {},
   "outputs": [],
   "source": [
    "def download_excel(files, path_download):\n",
    "    \"\"\"\n",
    "        Extrae código, razon_social, rut y declaración de retención de impuestos y pagos provisionales codigos: 538, 142 y 020\n",
    "\n",
    "        Args:\n",
    "            files (str): path al archivo a extraer\n",
    "    \"\"\"\n",
    "    \n",
    "    try: \n",
    "\n",
    "        sheet_patron = r\"BD_Postulación|BD_postulacion|BD postulacion|BD postulación\"\n",
    "\n",
    "        nombre_hoja = next(sheet for sheet in pd.ExcelFile(files).sheet_names if re.search(sheet_patron, sheet, flags=re.IGNORECASE))\n",
    "\n",
    "        df = pd.read_excel(files,\n",
    "                    sheet_name=nombre_hoja).clean_names()\n",
    "        try:\n",
    "            try:\n",
    "\n",
    "                patron = \"company_name|application_name\"  # Patrón para identificar la fila\n",
    "\n",
    "                fila_nombres = df[df.apply(lambda row: row.str.contains(patron, case=False, na=False)).any(axis=1)].index[0]\n",
    "\n",
    "            except:\n",
    "                patron = \"application_name\"  # Patrón para identificar la fila\n",
    "\n",
    "                fila_nombres = df[df.eq(patron).any(axis=1)].index[0]\n",
    "            \n",
    "            df = pd.read_excel(files,\n",
    "                    sheet_name=nombre_hoja,\n",
    "                    header=fila_nombres+1).clean_names()\n",
    "\n",
    "            inverted_dict_column = {value: key for key, values in dict_columns_rrhh_download.items() for value in values}\n",
    "                \n",
    "            df = df.rename(columns=inverted_dict_column)\n",
    "\n",
    "            df = df.filter(items=dict_columns_select_download)\n",
    "\n",
    "        except:\n",
    "            inverted_dict_column = {value: key for key, values in dict_columns_rrhh_download.items() for value in values}\n",
    "            \n",
    "            df = df.rename(columns=inverted_dict_column)\n",
    "\n",
    "            df = df.filter(items=dict_columns_select_download)\n",
    "    \n",
    "    except:\n",
    "\n",
    "        # sheet_patron = r\"BD_Postulación|BD_postulacion|BD postulacion|BD postulación\"\n",
    "\n",
    "        # nombre_hoja = next(sheet for sheet in pd.ExcelFile(files).sheet_names if re.search(sheet_patron, sheet, flags=re.IGNORECASE))\n",
    "\n",
    "        # df = pd.read_excel(files, sheet_name=sheet_patron).clean_names()\n",
    "\n",
    "        df = pd.read_excel(files).clean_names()\n",
    "\n",
    "        inverted_dict_column = {value: key for key, values in dict_columns_rrhh_download.items() for value in values}\n",
    "            \n",
    "        df = df.rename(columns=inverted_dict_column)\n",
    "\n",
    "        #df = df[(df.application_sent == 'si') & (~df.plan_trabajo_presupuesto_rrhh.isna())]\n",
    "\n",
    "        try:\n",
    "            df = df.filter(items=dict_columns_select_download)\n",
    "\n",
    "        except:\n",
    "            df = df.loc[:, dict_columns_select_download]\n",
    "\n",
    "    for index, row in df.iterrows():\n",
    "        codigo = str(row['codigo'])\n",
    "        carpeta_destino = f'{path_download}/{codigo}'\n",
    "\n",
    "        if not os.path.exists(carpeta_destino):\n",
    "            os.makedirs(carpeta_destino)\n",
    "\n",
    "        hipervinculo = row['plan_trabajo_presupuesto_rrhh']\n",
    "    \n",
    "        nombre_archivo = codigo + '.xlsx'\n",
    "        \n",
    "        ruta_archivo = os.path.join(carpeta_destino, nombre_archivo)\n",
    "        \n",
    "        if os.path.exists(ruta_archivo):\n",
    "            continue\n",
    "\n",
    "        try:\n",
    "            response = requests.get(hipervinculo)\n",
    "            with open(ruta_archivo, 'wb') as file:\n",
    "                file.write(response.content)\n",
    "        except Exception as e:\n",
    "            print(f\"Error al descargar el archivo desde {hipervinculo}: {str(e)}\")\n",
    "            continue"
   ]
  },
  {
   "cell_type": "code",
   "execution_count": null,
   "metadata": {},
   "outputs": [],
   "source": [
    "path = r'data\\2.2023\\CH2'"
   ]
  },
  {
   "cell_type": "code",
   "execution_count": null,
   "metadata": {},
   "outputs": [],
   "source": [
    "def rrhh_scrap(path, año=2023):\n",
    "    \"\"\"\n",
    "        Recorre carpetas por año para extraer RRHH reportados por beneficiarios en base al código del proyecto\n",
    "\n",
    "        Args:\n",
    "            path (str): path a los archivos que contienen las BD de postulación con los archivos de RRHH postulados.\n",
    "            año (int): año de la convocatoria\n",
    "    \"\"\"\n",
    "    \n",
    "    for concurso in tqdm(glob.iglob(f'{path}/*')):\n",
    "        print(concurso)\n",
    "        download_excel(concurso, path_download = 'output/2.2023/IATS/Plan de trabajo')"
   ]
  },
  {
   "cell_type": "code",
   "execution_count": null,
   "metadata": {},
   "outputs": [],
   "source": [
    "rrhh_scrap(path)"
   ]
  },
  {
   "cell_type": "markdown",
   "metadata": {},
   "source": [
    "# Cambios nombres de hoja de presupuesto"
   ]
  },
  {
   "cell_type": "code",
   "execution_count": null,
   "metadata": {},
   "outputs": [],
   "source": [
    "path = r'data/2.2023/CH2/2.2023 Capital Humano Gestión de Evaluación.xlsx'"
   ]
  },
  {
   "cell_type": "code",
   "execution_count": null,
   "metadata": {},
   "outputs": [],
   "source": [
    "df = pd.read_excel(path).clean_names()"
   ]
  },
  {
   "cell_type": "code",
   "execution_count": null,
   "metadata": {},
   "outputs": [],
   "source": [
    "df.columns.to_list()"
   ]
  },
  {
   "cell_type": "code",
   "execution_count": null,
   "metadata": {},
   "outputs": [],
   "source": []
  },
  {
   "cell_type": "markdown",
   "metadata": {},
   "source": [
    "## **Proceso de Inserción de datos asociados a PPTO y gasto I+D efectivo**\n",
    "\n",
    "A continuación, se implementará un sistema que nos permite obtener información relevante del presupuesto de los proyectos y  del aporte que éste realiza en el item I+D.\n",
    "\n",
    "Entre los hitos fundamentales que se realizarán son:\n",
    "- El código del proyecto obtenido de Charly y SGP.\n",
    "- Aporte Innova Chile (Subsidio) $\n",
    "- Aporte Beneficiaria (Pecuniario) $\n",
    "- Aporte Beneficiaria (Valorado) $ \n",
    "- Aporte Asociados (Pecuniario) $ \n",
    "- Aporte Asociados (Valorado) $ \n",
    "- Total ($). Corresponde al monto total del proyecto\n",
    "- Gasto de Inversión\n",
    "- Gastos de Administración\n",
    "- Gasto I+D RECHAZADO. Corresponde a la suma total del gasto I+D rechazado\n",
    "- Gasto I+D efectivo. El valor final del proyecto I+D\n",
    "- Porcentaje del valor del proyecto I+D declarado en relación al Total($)"
   ]
  },
  {
   "cell_type": "markdown",
   "metadata": {},
   "source": [
    "### **Pasos de ejecución**"
   ]
  },
  {
   "cell_type": "markdown",
   "metadata": {},
   "source": [
    "#### **1-. Mostrar la ruta absoluta según perfil**\n",
    " - Ejecutar celda para mostrar la ruta principal según perfil de usuario.\n",
    " - El resultado mostrará la ruta  del usuario registrado."
   ]
  },
  {
   "cell_type": "code",
   "execution_count": 124,
   "metadata": {},
   "outputs": [
    {
     "data": {
      "text/plain": [
       "'C:/Users/esteban.berrios/OneDrive - corfo.cl/'"
      ]
     },
     "execution_count": 124,
     "metadata": {},
     "output_type": "execute_result"
    }
   ],
   "source": [
    "# Se obtiene la ruta principal, que es llamada del directorio. Acá se pueden crear n rutas para distintos perfiles.\n",
    "path['esteban']"
   ]
  },
  {
   "cell_type": "markdown",
   "metadata": {},
   "source": [
    "#### **2-. Guardar la ruta en donde se encuentran guardados los proyectos**\n",
    "- Ejecutar celda para llamar la ruta absoluta asociada a mi perfil, y concatenarla con la ruta relativa asociada al directorio donde están los proyectos.\n",
    "- En la variable input_path quedará guardada la ruta de acceso a los proyectos."
   ]
  },
  {
   "cell_type": "code",
   "execution_count": 125,
   "metadata": {},
   "outputs": [],
   "source": [
    "# Tabla con presupuestos. El códigop permite generar nueva ruta llamada input_path que apunta a un directorio específico\n",
    "# dentro de la estructura de directorios en path['esteban']. Esto facilita la manipulación y navegación en el sistema de archivos dentro de ese directorio en particular.\n",
    "ruta = os.path.abspath(path['esteban'])\n",
    "input_path = os.path.join(ruta, \"extract_pdt/output/2.2023/IATS/Plan de trabajo\")\n"
   ]
  },
  {
   "cell_type": "markdown",
   "metadata": {},
   "source": [
    "#### **3-. Mostrar la nueva ruta concatenada correspondiente al directorio en donde se guardan los proyectos**\n",
    "- La ejecución de la celda mostrará la ruta asociada al directorio en donde se guardan los proyectos en formato .xlsx."
   ]
  },
  {
   "cell_type": "code",
   "execution_count": 126,
   "metadata": {},
   "outputs": [
    {
     "data": {
      "text/plain": [
       "'C:\\\\Users\\\\esteban.berrios\\\\OneDrive - corfo.cl\\\\extract_pdt/output/2.2023/IATS/Plan de trabajo'"
      ]
     },
     "execution_count": 126,
     "metadata": {},
     "output_type": "execute_result"
    }
   ],
   "source": [
    "input_path #Muestra la nueva ruta."
   ]
  },
  {
   "cell_type": "markdown",
   "metadata": {},
   "source": [
    "#### **4-. Mostrar el acceso a la carpeta asociada a los proyectos**\n",
    "- El resultado de la ejecución de esta celda, permite mostrar el llamado del primer proyecto que se encuentra en la carpeta."
   ]
  },
  {
   "cell_type": "code",
   "execution_count": 127,
   "metadata": {},
   "outputs": [
    {
     "data": {
      "text/plain": [
       "'23IATS-248256'"
      ]
     },
     "execution_count": 127,
     "metadata": {},
     "output_type": "execute_result"
    }
   ],
   "source": [
    "#  Se define la variable folder como un vacío, y  con la siguiente línea de toma el primer archivo encontrado en una carpeta específica (dada por input_path y folder), \n",
    "# elimina la extensión \".xlsx\" del nombre de ese archivo y devuelve el resultado, que probablemente sea utilizado como un identificador o código para ese archivo en particular.\n",
    "folder = \"\"\n",
    "os.listdir(os.path.join(input_path,folder))[0].replace(\".xlsx\",\"\")"
   ]
  },
  {
   "cell_type": "markdown",
   "metadata": {},
   "source": [
    "#### **5-.Guardar en un Primer Data Frame la información correspondiente a los indicadores de presupuesto de los proyectos**\n",
    "A partir de la ejcución de esta celda que contiene la estructura de código podrá obtener un Data Frame que tendrá de todos los proyectos:\n",
    "- El código obtenido de Charly y SGP.\n",
    "- Aporte Innova Chile (Subsidio) $\n",
    "- Aporte Beneficiaria (Pecuniario) $\n",
    "- Aporte Beneficiaria (Valorado) $ \n",
    "- Aporte Asociados (Pecuniario) $ \n",
    "- Aporte Asociados (Valorado) $ \n",
    "- Total ($). Corresponde al monto total del proyecto\n",
    "- Gasto de Inversión\n",
    "- Gastos de Administración\n",
    "\n",
    "El resultado se guardará en el data frame llamado df_presupuesto.\n",
    "\n"
   ]
  },
  {
   "cell_type": "code",
   "execution_count": 128,
   "metadata": {},
   "outputs": [],
   "source": [
    "%%capture\n",
    "%%time\n",
    "df_presupuesto = pd.DataFrame()\n",
    "\n",
    "for folder in os.listdir(input_path):\n",
    "    folder_path = os.path.join(input_path, folder)\n",
    "    if os.path.isdir(folder_path):\n",
    "        excel_files = [file for file in os.listdir(folder_path) if file.endswith(\".xlsx\")]\n",
    "\n",
    "        for excel_file in excel_files:\n",
    "            file = os.path.join(folder_path, excel_file)\n",
    "            codigo = os.listdir(os.path.join(input_path, folder))[0].replace(\".xlsx\", \"\")\n",
    "\n",
    "            # Lectura del archivo Excel\n",
    "            worksheet = pd.read_excel(file, sheet_name=\"RESUMEN PPTO\")\n",
    "\n",
    "            # Filtrar y procesar los datos iniciales del presupuesto sin la verificación del aporte I+D verificado.\n",
    "            worksheet = worksheet.iloc[7:13, 1:]\n",
    "            worksheet.columns = worksheet.iloc[0]\n",
    "            worksheet = worksheet[1:].reset_index(drop=True)\n",
    "            # String que captura nombre de variable Cuenta (Financiable o Presupuestable)\n",
    "            str_cuenta_financiable = worksheet.columns[worksheet.columns.str.contains(\"Cuenta\")].values[0]\n",
    "            \n",
    "            worksheet_row = worksheet[worksheet[str_cuenta_financiable] == \"TOTAL ($)\"]\n",
    "            fila_gasto_inversion = worksheet[worksheet[str_cuenta_financiable] == \"Gasto de Inversión\"]\n",
    "            indice_gasto_inversion = fila_gasto_inversion.index[0]  # Obtenemos el índice de la fila \"Gasto de Inversión\"\n",
    "            registro_gasto_inversion = fila_gasto_inversion.iloc[0,1]\n",
    "            fila_gasto_administracion = worksheet[worksheet[str_cuenta_financiable] == \"Gastos de Administración\"]\n",
    "            indice_gasto_administracion = fila_gasto_administracion.index[0]  # Obtenemos el índice de la fila \"Gasto de Inversión\"\n",
    "            registro_gasto_administracion = fila_gasto_administracion.iloc[0,1]\n",
    "\n",
    "\n",
    "            # Anexar los datos al DataFrame df_final\n",
    "            worksheet_row.insert(0, \"codigo\", codigo) # Agregar la columna 'codigo' en la primera ubicación a la izquierda\n",
    "            worksheet_row.insert(worksheet_row.columns.__len__(),\"Gasto de Inversión\",registro_gasto_inversion)\n",
    "            worksheet_row.insert(worksheet_row.columns.__len__(),\"Gastos de Administración\",registro_gasto_administracion)\n",
    "            worksheet_row.drop(columns=[str_cuenta_financiable], inplace=True) # Eliminar la columna 'Cuentas Financiables'\n",
    "            df_presupuesto = pd.concat([df_presupuesto, worksheet_row])\n",
    "\n",
    "# Reiniciar el índice del DataFrame resultante\n",
    "df_presupuesto.reset_index(drop=True, inplace=True)\n",
    "\n",
    "# Mostrar las primeras filas del DataFrame\n",
    "df_presupuesto.head()"
   ]
  },
  {
   "cell_type": "markdown",
   "metadata": {},
   "source": [
    "#### **6-.Guardar en un Segundo Data Frame la información correspondiente al valor I+D rechazado por proyecto**\n",
    "A partir de la ejecución de esta celda que contiene la estructura de código podrá obtener un Segundo Data Frame que tendrá de todos los proyectos:\n",
    "- El gasto I+D RECHAZADO. Corresponde a la suma total del gasto I+D rechazado\n",
    "\n",
    "El resultado se guardará en el data frame llamado df_imasd."
   ]
  },
  {
   "cell_type": "markdown",
   "metadata": {},
   "source": [
    "##### **IMPORTANTE: ESTA CELDA SÓLO SE OCUPARÁ CUANDO LOS INSTRUMENTOS CONSIDEREN EL APORTE I+D!**"
   ]
  },
  {
   "cell_type": "code",
   "execution_count": 129,
   "metadata": {},
   "outputs": [],
   "source": [
    "%%capture\n",
    "%%time\n",
    "# Sólo concursos con I+D\n",
    "df_imasd = pd.DataFrame()\n",
    "for folder in os.listdir(input_path):\n",
    "    folder_path = os.path.join(input_path, folder)\n",
    "    if os.path.isdir(folder_path):\n",
    "        excel_files = [file for file in os.listdir(folder_path) if file.endswith(\".xlsx\")]\n",
    "\n",
    "        for excel_file in excel_files:\n",
    "            file = os.path.join(folder_path, excel_file)\n",
    "            codigo = os.listdir(os.path.join(input_path, folder))[0].replace(\".xlsx\", \"\")\n",
    "\n",
    "            # Lectura del archivo Excel\n",
    "            worksheet = pd.read_excel(file, sheet_name=\"PLAN DE TRABAJO\")\n",
    "\n",
    "            # Filtrar y procesar los datos iniciales del presupuesto sin la verificación del aporte I+D verificado.\n",
    "            valorimasd = 0\n",
    "            # Selecciona las filas y columnas necesarias\n",
    "            worksheet = worksheet.iloc[11:,5:]\n",
    "            worksheet['codigo']=codigo\n",
    "            worksheet_filtered = worksheet[worksheet['Unnamed: 5'].str.upper() == \"NO\"]\n",
    "\n",
    "            # Sumar todos los valores en las columnas \"Unnamed: 12\" a \"Unnamed: 16\"\n",
    "            total_sum = worksheet_filtered[[\"Unnamed: 12\", \"Unnamed: 13\", \"Unnamed: 14\", \"Unnamed: 15\", \"Unnamed: 16\"]].sum().sum()\n",
    "\n",
    "            # Crear un nuevo DataFrame con el resultado\n",
    "            resultado_df = pd.DataFrame({'codigo':[codigo],'Gasto I+D RECHAZADO': [total_sum]})\n",
    "\n",
    "            # Agregar el resultado al DataFrame principal (df_imasd)\n",
    "            df_imasd = df_imasd.append(resultado_df, ignore_index=True)\n",
    "            df_imasd['Gasto I+D RECHAZADO'] = df_imasd['Gasto I+D RECHAZADO'].astype('int64')\n",
    "df_imasd.head()"
   ]
  },
  {
   "cell_type": "markdown",
   "metadata": {},
   "source": [
    "#### **7-.Concatenar Data Frames asociados a valores de presupuestos y el gasto I+D rechazado.**\n",
    "A partir de la ejecución de esta celda que contiene la estructura de código podrá obtener un data frame que tendrá:\n",
    "- Los datos generales del presupuesto y el gasto I+D rechazado a cada proyecto.\n",
    "\n",
    "El resultado se guardará en el data frame llamado df_resultado."
   ]
  },
  {
   "cell_type": "markdown",
   "metadata": {},
   "source": [
    "##### **IMPORTANTE: ESTA CELDA SÓLO SE OCUPARÁ CUANDO LOS INSTRUMENTOS CONSIDEREN EL APORTE I+D!**"
   ]
  },
  {
   "cell_type": "code",
   "execution_count": 130,
   "metadata": {},
   "outputs": [
    {
     "data": {
      "text/html": [
       "<div>\n",
       "<style scoped>\n",
       "    .dataframe tbody tr th:only-of-type {\n",
       "        vertical-align: middle;\n",
       "    }\n",
       "\n",
       "    .dataframe tbody tr th {\n",
       "        vertical-align: top;\n",
       "    }\n",
       "\n",
       "    .dataframe thead th {\n",
       "        text-align: right;\n",
       "    }\n",
       "</style>\n",
       "<table border=\"1\" class=\"dataframe\">\n",
       "  <thead>\n",
       "    <tr style=\"text-align: right;\">\n",
       "      <th></th>\n",
       "      <th>Aporte Innova Chile\\n(Subsidio) $</th>\n",
       "      <th>Aporte Beneficiaria\\n(Pecuniario) $</th>\n",
       "      <th>Aporte Beneficiaria\\n(Valorado) $</th>\n",
       "      <th>Aporte Asociados\\n(Pecuniario) $</th>\n",
       "      <th>Aporte Asociados\\n(Valorado) $</th>\n",
       "      <th>Total ($)</th>\n",
       "      <th>Gasto de Inversión</th>\n",
       "      <th>Gastos de Administración</th>\n",
       "      <th>Gasto I+D RECHAZADO</th>\n",
       "    </tr>\n",
       "    <tr>\n",
       "      <th>codigo</th>\n",
       "      <th></th>\n",
       "      <th></th>\n",
       "      <th></th>\n",
       "      <th></th>\n",
       "      <th></th>\n",
       "      <th></th>\n",
       "      <th></th>\n",
       "      <th></th>\n",
       "      <th></th>\n",
       "    </tr>\n",
       "  </thead>\n",
       "  <tbody>\n",
       "    <tr>\n",
       "      <th>23IATS-248256</th>\n",
       "      <td>325901727.8</td>\n",
       "      <td>129335026.2</td>\n",
       "      <td>766443</td>\n",
       "      <td>2350000</td>\n",
       "      <td>9599904</td>\n",
       "      <td>467953101</td>\n",
       "      <td>53991000</td>\n",
       "      <td>20832000</td>\n",
       "      <td>138454567</td>\n",
       "    </tr>\n",
       "    <tr>\n",
       "      <th>23IATS-248257</th>\n",
       "      <td>239218092.371134</td>\n",
       "      <td>65000000</td>\n",
       "      <td>37690148.4</td>\n",
       "      <td>0</td>\n",
       "      <td>0</td>\n",
       "      <td>341908240.771134</td>\n",
       "      <td>0</td>\n",
       "      <td>0</td>\n",
       "      <td>115298728</td>\n",
       "    </tr>\n",
       "    <tr>\n",
       "      <th>23IATS-248258</th>\n",
       "      <td>178765000</td>\n",
       "      <td>41247360</td>\n",
       "      <td>40950819</td>\n",
       "      <td>0</td>\n",
       "      <td>0</td>\n",
       "      <td>260963179</td>\n",
       "      <td>0</td>\n",
       "      <td>0</td>\n",
       "      <td>110863179</td>\n",
       "    </tr>\n",
       "    <tr>\n",
       "      <th>23IATS-248259</th>\n",
       "      <td>349440000</td>\n",
       "      <td>278680000</td>\n",
       "      <td>249312000</td>\n",
       "      <td>0</td>\n",
       "      <td>0</td>\n",
       "      <td>877432000</td>\n",
       "      <td>0</td>\n",
       "      <td>0</td>\n",
       "      <td>2000000</td>\n",
       "    </tr>\n",
       "    <tr>\n",
       "      <th>23IATS-248260</th>\n",
       "      <td>598992000</td>\n",
       "      <td>125918000</td>\n",
       "      <td>25790000</td>\n",
       "      <td>26280000</td>\n",
       "      <td>80280000</td>\n",
       "      <td>857260000</td>\n",
       "      <td>102500000</td>\n",
       "      <td>1260000</td>\n",
       "      <td>28106885</td>\n",
       "    </tr>\n",
       "  </tbody>\n",
       "</table>\n",
       "</div>"
      ],
      "text/plain": [
       "              Aporte Innova Chile\\n(Subsidio) $  \\\n",
       "codigo                                            \n",
       "23IATS-248256                       325901727.8   \n",
       "23IATS-248257                  239218092.371134   \n",
       "23IATS-248258                         178765000   \n",
       "23IATS-248259                         349440000   \n",
       "23IATS-248260                         598992000   \n",
       "\n",
       "              Aporte Beneficiaria\\n(Pecuniario) $   \\\n",
       "codigo                                               \n",
       "23IATS-248256                          129335026.2   \n",
       "23IATS-248257                             65000000   \n",
       "23IATS-248258                             41247360   \n",
       "23IATS-248259                            278680000   \n",
       "23IATS-248260                            125918000   \n",
       "\n",
       "              Aporte Beneficiaria\\n(Valorado) $   \\\n",
       "codigo                                             \n",
       "23IATS-248256                             766443   \n",
       "23IATS-248257                         37690148.4   \n",
       "23IATS-248258                           40950819   \n",
       "23IATS-248259                          249312000   \n",
       "23IATS-248260                           25790000   \n",
       "\n",
       "              Aporte Asociados\\n(Pecuniario) $   \\\n",
       "codigo                                            \n",
       "23IATS-248256                           2350000   \n",
       "23IATS-248257                                 0   \n",
       "23IATS-248258                                 0   \n",
       "23IATS-248259                                 0   \n",
       "23IATS-248260                          26280000   \n",
       "\n",
       "              Aporte Asociados\\n(Valorado) $          Total ($)  \\\n",
       "codigo                                                            \n",
       "23IATS-248256                         9599904         467953101   \n",
       "23IATS-248257                               0  341908240.771134   \n",
       "23IATS-248258                               0         260963179   \n",
       "23IATS-248259                               0         877432000   \n",
       "23IATS-248260                        80280000         857260000   \n",
       "\n",
       "               Gasto de Inversión  Gastos de Administración  \\\n",
       "codigo                                                        \n",
       "23IATS-248256            53991000                  20832000   \n",
       "23IATS-248257                   0                         0   \n",
       "23IATS-248258                   0                         0   \n",
       "23IATS-248259                   0                         0   \n",
       "23IATS-248260           102500000                   1260000   \n",
       "\n",
       "               Gasto I+D RECHAZADO  \n",
       "codigo                              \n",
       "23IATS-248256            138454567  \n",
       "23IATS-248257            115298728  \n",
       "23IATS-248258            110863179  \n",
       "23IATS-248259              2000000  \n",
       "23IATS-248260             28106885  "
      ]
     },
     "execution_count": 130,
     "metadata": {},
     "output_type": "execute_result"
    }
   ],
   "source": [
    "df_resultado = pd.concat([df_presupuesto.set_index('codigo'), df_imasd.set_index('codigo')], axis=1)\n",
    "df_resultado.head()"
   ]
  },
  {
   "cell_type": "markdown",
   "metadata": {},
   "source": [
    "#### **8-.Crear una nueva columna en el Data Frame que contendrá información del gasto I+D efectivo**\n",
    "A partir de la ejcución de esta celda se podrá obtener:\n",
    "- Un data frame actualizado que contendrá en la última columna el ítem Gasto I+D efectivo.\n",
    "- El resultado proviene de la diferencia entre el valor total del proyecto menos el gasto I+D rechazado.\n",
    "\n",
    "El resultado quedará actualizado en la variable df_resultado."
   ]
  },
  {
   "cell_type": "markdown",
   "metadata": {},
   "source": [
    "##### **IMPORTANTE: ESTA CELDA SÓLO SE OCUPARÁ CUANDO LOS INSTRUMENTOS CONSIDEREN EL APORTE I+D!**"
   ]
  },
  {
   "cell_type": "code",
   "execution_count": 131,
   "metadata": {},
   "outputs": [
    {
     "data": {
      "text/html": [
       "<div>\n",
       "<style scoped>\n",
       "    .dataframe tbody tr th:only-of-type {\n",
       "        vertical-align: middle;\n",
       "    }\n",
       "\n",
       "    .dataframe tbody tr th {\n",
       "        vertical-align: top;\n",
       "    }\n",
       "\n",
       "    .dataframe thead th {\n",
       "        text-align: right;\n",
       "    }\n",
       "</style>\n",
       "<table border=\"1\" class=\"dataframe\">\n",
       "  <thead>\n",
       "    <tr style=\"text-align: right;\">\n",
       "      <th></th>\n",
       "      <th>Aporte Innova Chile\\n(Subsidio) $</th>\n",
       "      <th>Aporte Beneficiaria\\n(Pecuniario) $</th>\n",
       "      <th>Aporte Beneficiaria\\n(Valorado) $</th>\n",
       "      <th>Aporte Asociados\\n(Pecuniario) $</th>\n",
       "      <th>Aporte Asociados\\n(Valorado) $</th>\n",
       "      <th>Total ($)</th>\n",
       "      <th>Gasto de Inversión</th>\n",
       "      <th>Gastos de Administración</th>\n",
       "      <th>Gasto I+D RECHAZADO</th>\n",
       "      <th>Gasto I+D efectivo</th>\n",
       "    </tr>\n",
       "    <tr>\n",
       "      <th>codigo</th>\n",
       "      <th></th>\n",
       "      <th></th>\n",
       "      <th></th>\n",
       "      <th></th>\n",
       "      <th></th>\n",
       "      <th></th>\n",
       "      <th></th>\n",
       "      <th></th>\n",
       "      <th></th>\n",
       "      <th></th>\n",
       "    </tr>\n",
       "  </thead>\n",
       "  <tbody>\n",
       "    <tr>\n",
       "      <th>23IATS-248256</th>\n",
       "      <td>325901727.8</td>\n",
       "      <td>129335026.2</td>\n",
       "      <td>766443</td>\n",
       "      <td>2350000</td>\n",
       "      <td>9599904</td>\n",
       "      <td>467953101</td>\n",
       "      <td>53991000</td>\n",
       "      <td>20832000</td>\n",
       "      <td>138454567</td>\n",
       "      <td>329498534</td>\n",
       "    </tr>\n",
       "    <tr>\n",
       "      <th>23IATS-248257</th>\n",
       "      <td>239218092.371134</td>\n",
       "      <td>65000000</td>\n",
       "      <td>37690148.4</td>\n",
       "      <td>0</td>\n",
       "      <td>0</td>\n",
       "      <td>341908240.771134</td>\n",
       "      <td>0</td>\n",
       "      <td>0</td>\n",
       "      <td>115298728</td>\n",
       "      <td>226609512.771134</td>\n",
       "    </tr>\n",
       "    <tr>\n",
       "      <th>23IATS-248258</th>\n",
       "      <td>178765000</td>\n",
       "      <td>41247360</td>\n",
       "      <td>40950819</td>\n",
       "      <td>0</td>\n",
       "      <td>0</td>\n",
       "      <td>260963179</td>\n",
       "      <td>0</td>\n",
       "      <td>0</td>\n",
       "      <td>110863179</td>\n",
       "      <td>150100000</td>\n",
       "    </tr>\n",
       "    <tr>\n",
       "      <th>23IATS-248259</th>\n",
       "      <td>349440000</td>\n",
       "      <td>278680000</td>\n",
       "      <td>249312000</td>\n",
       "      <td>0</td>\n",
       "      <td>0</td>\n",
       "      <td>877432000</td>\n",
       "      <td>0</td>\n",
       "      <td>0</td>\n",
       "      <td>2000000</td>\n",
       "      <td>875432000</td>\n",
       "    </tr>\n",
       "    <tr>\n",
       "      <th>23IATS-248260</th>\n",
       "      <td>598992000</td>\n",
       "      <td>125918000</td>\n",
       "      <td>25790000</td>\n",
       "      <td>26280000</td>\n",
       "      <td>80280000</td>\n",
       "      <td>857260000</td>\n",
       "      <td>102500000</td>\n",
       "      <td>1260000</td>\n",
       "      <td>28106885</td>\n",
       "      <td>829153115</td>\n",
       "    </tr>\n",
       "  </tbody>\n",
       "</table>\n",
       "</div>"
      ],
      "text/plain": [
       "              Aporte Innova Chile\\n(Subsidio) $  \\\n",
       "codigo                                            \n",
       "23IATS-248256                       325901727.8   \n",
       "23IATS-248257                  239218092.371134   \n",
       "23IATS-248258                         178765000   \n",
       "23IATS-248259                         349440000   \n",
       "23IATS-248260                         598992000   \n",
       "\n",
       "              Aporte Beneficiaria\\n(Pecuniario) $   \\\n",
       "codigo                                               \n",
       "23IATS-248256                          129335026.2   \n",
       "23IATS-248257                             65000000   \n",
       "23IATS-248258                             41247360   \n",
       "23IATS-248259                            278680000   \n",
       "23IATS-248260                            125918000   \n",
       "\n",
       "              Aporte Beneficiaria\\n(Valorado) $   \\\n",
       "codigo                                             \n",
       "23IATS-248256                             766443   \n",
       "23IATS-248257                         37690148.4   \n",
       "23IATS-248258                           40950819   \n",
       "23IATS-248259                          249312000   \n",
       "23IATS-248260                           25790000   \n",
       "\n",
       "              Aporte Asociados\\n(Pecuniario) $   \\\n",
       "codigo                                            \n",
       "23IATS-248256                           2350000   \n",
       "23IATS-248257                                 0   \n",
       "23IATS-248258                                 0   \n",
       "23IATS-248259                                 0   \n",
       "23IATS-248260                          26280000   \n",
       "\n",
       "              Aporte Asociados\\n(Valorado) $          Total ($)  \\\n",
       "codigo                                                            \n",
       "23IATS-248256                         9599904         467953101   \n",
       "23IATS-248257                               0  341908240.771134   \n",
       "23IATS-248258                               0         260963179   \n",
       "23IATS-248259                               0         877432000   \n",
       "23IATS-248260                        80280000         857260000   \n",
       "\n",
       "               Gasto de Inversión  Gastos de Administración  \\\n",
       "codigo                                                        \n",
       "23IATS-248256            53991000                  20832000   \n",
       "23IATS-248257                   0                         0   \n",
       "23IATS-248258                   0                         0   \n",
       "23IATS-248259                   0                         0   \n",
       "23IATS-248260           102500000                   1260000   \n",
       "\n",
       "               Gasto I+D RECHAZADO Gasto I+D efectivo  \n",
       "codigo                                                 \n",
       "23IATS-248256            138454567          329498534  \n",
       "23IATS-248257            115298728   226609512.771134  \n",
       "23IATS-248258            110863179          150100000  \n",
       "23IATS-248259              2000000          875432000  \n",
       "23IATS-248260             28106885          829153115  "
      ]
     },
     "execution_count": 131,
     "metadata": {},
     "output_type": "execute_result"
    }
   ],
   "source": [
    "df_resultado['Gasto I+D efectivo'] = df_resultado['Total ($)']- df_resultado['Gasto I+D RECHAZADO']\n",
    "df_resultado.head()"
   ]
  },
  {
   "cell_type": "markdown",
   "metadata": {},
   "source": [
    "#### **9-.Crear una nueva hoja de trabajo o worksheet en el documento xlsx que contendrá el resultado final del data frame importado a excel**\n",
    "A partir de la ejcución de esta celda se podrá obtener:\n",
    "-La importación del resultado final del Data Frame a un worksheet definido según la veriable del archivo excel y el nombre de la hoja."
   ]
  },
  {
   "cell_type": "code",
   "execution_count": 14,
   "metadata": {},
   "outputs": [],
   "source": [
    "nombre_archivo_excel = 'data/2.2023/IATS/2.2023 IATS Gestión de Evaluación.xlsx'\n",
    "nombre_hoja_excel = 'PRESUPUESTO'  # Cambia 'Hoja1' al nombre de tu hoja específica\n",
    "\n",
    "# Crea un objeto ExcelWriter para escribir en el archivo Excel\n",
    "with pd.ExcelWriter(nombre_archivo_excel, engine='openpyxl', mode='a') as writer:\n",
    "    # Carga el DataFrame en la hoja de Excel especificada\n",
    "    df_resultado.reset_index().to_excel(writer, sheet_name=nombre_hoja_excel, index=False)# Usar carga de información para instrumentos que consideran aporte I+D\n",
    "    #df_presupuesto.reset_index(drop=True).to_excel(writer, sheet_name=nombre_hoja_excel, index=False)# Al resetear el indice, automáticamente queda asociado como columna. SE DEBE USAR PARA INSTRUMENTOSQUE NO CONTEMPLEN APORTE I+D.\n",
    "\n",
    "\n"
   ]
  },
  {
   "cell_type": "markdown",
   "metadata": {},
   "source": []
  },
  {
   "cell_type": "markdown",
   "metadata": {},
   "source": []
  },
  {
   "cell_type": "markdown",
   "metadata": {},
   "source": []
  },
  {
   "cell_type": "markdown",
   "metadata": {},
   "source": []
  }
 ],
 "metadata": {
  "kernelspec": {
   "display_name": "pedidas",
   "language": "python",
   "name": "python3"
  },
  "language_info": {
   "codemirror_mode": {
    "name": "ipython",
    "version": 3
   },
   "file_extension": ".py",
   "mimetype": "text/x-python",
   "name": "python",
   "nbconvert_exporter": "python",
   "pygments_lexer": "ipython3",
   "version": "3.9.16"
  },
  "orig_nbformat": 4
 },
 "nbformat": 4,
 "nbformat_minor": 2
}
